{
 "cells": [
  {
   "cell_type": "markdown",
   "metadata": {},
   "source": [
    "# Лабораторная №3"
   ]
  },
  {
   "cell_type": "code",
   "execution_count": 1,
   "metadata": {},
   "outputs": [],
   "source": [
    "import struct\n",
    "import numpy as np\n",
    "import intvalpy as ip\n",
    "from functools import cmp_to_key\n",
    "import matplotlib.pyplot as plt"
   ]
  },
  {
   "cell_type": "code",
   "execution_count": 2,
   "metadata": {},
   "outputs": [],
   "source": [
    "def read_bin_file_with_numpy(file_path):\n",
    "    with open(file_path, \"rb\") as f:\n",
    "        header_data = f.read(256)\n",
    "        side, mode, frame_count = struct.unpack(\"<BBH\", header_data[:4])\n",
    "\n",
    "        frames = []\n",
    "        point_dtype = np.dtype(\"<8H\")\n",
    "\n",
    "        for _ in range(frame_count):\n",
    "            frame_header_data = f.read(16)\n",
    "            stop_point, timestamp = struct.unpack(\"<HL\", frame_header_data[:6])\n",
    "            frame_data = np.frombuffer(f.read(1024 * 16), dtype=point_dtype)\n",
    "            frames.append(frame_data)\n",
    "\n",
    "        return np.array(frames)\n",
    "\n",
    "\n",
    "def convert_to_voltage(data):\n",
    "    return data / 16384.0 - 0.5\n",
    "\n",
    "\n",
    "def are_intersected(x, y):\n",
    "    sup = y.a if x.a < y.a else x.a\n",
    "    inf = x.b if x.b < y.b else y.b\n",
    "    return sup - inf <= 1e-15\n",
    "\n",
    "\n",
    "def are_adjusted_to_each_other(x, y):\n",
    "    return x.b == y.a or y.b == x.a\n",
    "\n",
    "\n",
    "def merge_intervals(x, y):\n",
    "    return ip.Interval(min(x.a, y.a), max(x.b, y.b))"
   ]
  },
  {
   "cell_type": "code",
   "execution_count": 3,
   "metadata": {},
   "outputs": [],
   "source": [
    "def mode(x):\n",
    "    if len(x) == 0:\n",
    "        return []\n",
    "\n",
    "    edges = sorted({x_i.a for x_i in x}.union({x_i.b for x_i in x}))\n",
    "    z = [ip.Interval(edges[i], edges[i + 1]) for i in range(len(edges) - 1)]\n",
    "    mu = [sum(1 for x_i in x if z_i in x_i) for z_i in z]\n",
    "\n",
    "    max_mu = max(mu)\n",
    "    K = [index for index, element in enumerate(mu) if element == max_mu]\n",
    "\n",
    "    m = [z[k] for k in K]\n",
    "    merged_m = []\n",
    "\n",
    "    current_interval = m[0]\n",
    "\n",
    "    for next_interval in m[1:]:\n",
    "        if are_intersected(\n",
    "            current_interval, next_interval\n",
    "        ) or are_adjusted_to_each_other(current_interval, next_interval):\n",
    "            current_interval = merge_intervals(current_interval, next_interval)\n",
    "        else:\n",
    "            merged_m.append(current_interval)\n",
    "            current_interval = next_interval\n",
    "\n",
    "    merged_m.append(current_interval)\n",
    "\n",
    "    return merged_m"
   ]
  },
  {
   "cell_type": "code",
   "execution_count": 4,
   "metadata": {},
   "outputs": [],
   "source": [
    "def med_k(x):\n",
    "    starts = [float(interval.a) for interval in x]\n",
    "    ends = [float(interval.b) for interval in x]\n",
    "    return ip.Interval(np.median(starts), np.median(ends))\n",
    "\n",
    "\n",
    "def med_p(x):\n",
    "    x = sorted(x, key=cmp_to_key(lambda x, y: (x.a + x.b) / 2 - (y.a + y.b) / 2))\n",
    "\n",
    "    mid_index = len(x) // 2\n",
    "\n",
    "    if len(x) % 2 == 0:\n",
    "        return (x[mid_index - 1] + x[mid_index]) / 2\n",
    "\n",
    "    return x[mid_index]"
   ]
  },
  {
   "cell_type": "code",
   "execution_count": 5,
   "metadata": {},
   "outputs": [],
   "source": [
    "def jaccard_index(*args):\n",
    "    if len(args) == 1:\n",
    "        x = args[0]\n",
    "        left_edges = [interval.a for interval in x]\n",
    "        right_edges = [interval.b for interval in x]\n",
    "\n",
    "        return (min(right_edges) - max(left_edges)) / (\n",
    "            max(right_edges) - min(left_edges)\n",
    "        )\n",
    "    elif len(args) == 2:\n",
    "        x = args[0]\n",
    "        y = args[1]\n",
    "\n",
    "        if isinstance(x, ip.ClassicalArithmetic) and isinstance(\n",
    "            y, ip.ClassicalArithmetic\n",
    "        ):\n",
    "            return (min(x.b, y.b) - max(x.a, y.a)) / (max(x.b, y.b) - min(x.a, y.a))\n",
    "        else:\n",
    "            results = []\n",
    "\n",
    "            for x_i, y_i in zip(x, y):\n",
    "                result = (min(x_i.b, y_i.b) - max(x_i.a, y_i.a)) / (\n",
    "                    max(x_i.b, y_i.b) - min(x_i.a, y_i.a)\n",
    "                )\n",
    "                results.append(result)\n",
    "\n",
    "            return np.array(results)\n",
    "    else:\n",
    "        raise ValueError(\"Wrong number of arguments\")"
   ]
  },
  {
   "cell_type": "code",
   "execution_count": 6,
   "metadata": {},
   "outputs": [],
   "source": [
    "def scalar_to_interval(x, rad):\n",
    "    return ip.Interval(x - rad, x + rad)\n",
    "\n",
    "\n",
    "scalar_to_interval_vec = np.vectorize(scalar_to_interval)"
   ]
  },
  {
   "cell_type": "code",
   "execution_count": 7,
   "metadata": {},
   "outputs": [],
   "source": [
    "x_data = read_bin_file_with_numpy('-0.205_lvl_side_a_fast_data.bin')\n",
    "y_data = read_bin_file_with_numpy('0.225_lvl_side_a_fast_data.bin')"
   ]
  },
  {
   "cell_type": "code",
   "execution_count": 8,
   "metadata": {},
   "outputs": [],
   "source": [
    "x_voltage = convert_to_voltage(x_data)\n",
    "y_voltage = convert_to_voltage(y_data)"
   ]
  },
  {
   "cell_type": "code",
   "execution_count": 9,
   "metadata": {},
   "outputs": [],
   "source": [
    "rad = 2 ** -14\n",
    "x_voltage_int = scalar_to_interval_vec(x_voltage, rad)\n",
    "y_voltage_int = scalar_to_interval_vec(y_voltage, rad)"
   ]
  },
  {
   "cell_type": "code",
   "execution_count": 10,
   "metadata": {},
   "outputs": [],
   "source": [
    "x_voltage_int_flatten = x_voltage_int.flatten()\n",
    "y_voltage_int_flatten = y_voltage_int.flatten()"
   ]
  },
  {
   "cell_type": "code",
   "execution_count": 11,
   "metadata": {},
   "outputs": [],
   "source": [
    "def ternary_search(f, left, right, eps):\n",
    "    while right - left > eps:\n",
    "        m1 = left + (right - left) / 3\n",
    "        m2 = right - (right - left) / 3\n",
    "\n",
    "        if f(m1) < f(m2):\n",
    "            left = m1\n",
    "        else:\n",
    "            right = m2\n",
    "\n",
    "    return (left + right) / 2\n",
    "\n",
    "\n",
    "def estimate_a(a):\n",
    "    return np.mean(jaccard_index(x_voltage_int_flatten + a, y_voltage_int_flatten))\n",
    "\n",
    "\n",
    "def estimate_t(t):\n",
    "    return np.mean(jaccard_index(x_voltage_int_flatten * t, y_voltage_int_flatten))\n",
    "\n",
    "\n",
    "def estimate_a_mode(a):\n",
    "    return np.mean(\n",
    "        jaccard_index(mode(x_voltage_int_flatten + a), mode(y_voltage_int_flatten))\n",
    "    )\n",
    "\n",
    "\n",
    "def estimate_t_mode(t):\n",
    "    x = mode(x_voltage_int_flatten * t)\n",
    "    x_idx = len(x) // 2\n",
    "    x = x[x_idx]\n",
    "\n",
    "    y = mode(y_voltage_int_flatten)\n",
    "    y_idx = len(y) // 2\n",
    "    y = y[y_idx]\n",
    "\n",
    "    return np.mean(jaccard_index(x, y))\n",
    "\n",
    "\n",
    "def estimate_a_med_p(a):\n",
    "    return np.mean(\n",
    "        jaccard_index(med_p(x_voltage_int_flatten + a), med_p(y_voltage_int_flatten))\n",
    "    )\n",
    "\n",
    "\n",
    "def estimate_t_med_p(t):\n",
    "    return np.mean(\n",
    "        jaccard_index(med_p(x_voltage_int_flatten * t), med_p(y_voltage_int_flatten))\n",
    "    )\n",
    "\n",
    "\n",
    "def estimate_a_med_k(a):\n",
    "    return np.mean(\n",
    "        jaccard_index(med_k(x_voltage_int_flatten + a), med_k(y_voltage_int_flatten))\n",
    "    )\n",
    "\n",
    "\n",
    "def estimate_t_med_k(t):\n",
    "    return np.mean(\n",
    "        jaccard_index(med_k(x_voltage_int_flatten * t), med_k(y_voltage_int_flatten))\n",
    "    )"
   ]
  },
  {
   "cell_type": "code",
   "execution_count": 12,
   "metadata": {},
   "outputs": [
    {
     "data": {
      "text/plain": [
       "(0.34278228893567897, mpf('-0.919629440260532562156191284788837551121'))"
      ]
     },
     "execution_count": 12,
     "metadata": {},
     "output_type": "execute_result"
    }
   ],
   "source": [
    "a_1 = ternary_search(estimate_a, 0, 1, 1e-3)\n",
    "a_1, estimate_a(a_1),"
   ]
  },
  {
   "cell_type": "code",
   "execution_count": 13,
   "metadata": {},
   "outputs": [
    {
     "data": {
      "text/plain": [
       "(-1.014672174258512, mpf('-0.924678077162310113181913694699541018367'))"
      ]
     },
     "execution_count": 13,
     "metadata": {},
     "output_type": "execute_result"
    }
   ],
   "source": [
    "t_1 = ternary_search(estimate_t, -4, 0, 1e-3)\n",
    "t_1, estimate_t(t_1),"
   ]
  },
  {
   "cell_type": "code",
   "execution_count": 14,
   "metadata": {},
   "outputs": [
    {
     "ename": "KeyboardInterrupt",
     "evalue": "",
     "output_type": "error",
     "traceback": [
      "\u001b[1;31m---------------------------------------------------------------------------\u001b[0m",
      "\u001b[1;31mKeyboardInterrupt\u001b[0m                         Traceback (most recent call last)",
      "Cell \u001b[1;32mIn[14], line 1\u001b[0m\n\u001b[1;32m----> 1\u001b[0m a_2 \u001b[38;5;241m=\u001b[39m \u001b[43mternary_search\u001b[49m\u001b[43m(\u001b[49m\u001b[43mestimate_a_mode\u001b[49m\u001b[43m,\u001b[49m\u001b[43m \u001b[49m\u001b[38;5;241;43m-\u001b[39;49m\u001b[38;5;241;43m4\u001b[39;49m\u001b[43m,\u001b[49m\u001b[43m \u001b[49m\u001b[38;5;241;43m4\u001b[39;49m\u001b[43m,\u001b[49m\u001b[43m \u001b[49m\u001b[38;5;241;43m1e-3\u001b[39;49m\u001b[43m)\u001b[49m\n\u001b[0;32m      2\u001b[0m a_2, estimate_a_mode(a_2)\n",
      "Cell \u001b[1;32mIn[11], line 6\u001b[0m, in \u001b[0;36mternary_search\u001b[1;34m(f, left, right, eps)\u001b[0m\n\u001b[0;32m      3\u001b[0m m1 \u001b[38;5;241m=\u001b[39m left \u001b[38;5;241m+\u001b[39m (right \u001b[38;5;241m-\u001b[39m left) \u001b[38;5;241m/\u001b[39m \u001b[38;5;241m3\u001b[39m\n\u001b[0;32m      4\u001b[0m m2 \u001b[38;5;241m=\u001b[39m right \u001b[38;5;241m-\u001b[39m (right \u001b[38;5;241m-\u001b[39m left) \u001b[38;5;241m/\u001b[39m \u001b[38;5;241m3\u001b[39m\n\u001b[1;32m----> 6\u001b[0m \u001b[38;5;28;01mif\u001b[39;00m f(m1) \u001b[38;5;241m<\u001b[39m \u001b[43mf\u001b[49m\u001b[43m(\u001b[49m\u001b[43mm2\u001b[49m\u001b[43m)\u001b[49m:\n\u001b[0;32m      7\u001b[0m     left \u001b[38;5;241m=\u001b[39m m1\n\u001b[0;32m      8\u001b[0m \u001b[38;5;28;01melse\u001b[39;00m:\n",
      "Cell \u001b[1;32mIn[11], line 24\u001b[0m, in \u001b[0;36mestimate_a_mode\u001b[1;34m(a)\u001b[0m\n\u001b[0;32m     22\u001b[0m \u001b[38;5;28;01mdef\u001b[39;00m \u001b[38;5;21mestimate_a_mode\u001b[39m(a):\n\u001b[0;32m     23\u001b[0m     \u001b[38;5;28;01mreturn\u001b[39;00m np\u001b[38;5;241m.\u001b[39mmean(\n\u001b[1;32m---> 24\u001b[0m         jaccard_index(mode(x_voltage_int_flatten \u001b[38;5;241m+\u001b[39m a), \u001b[43mmode\u001b[49m\u001b[43m(\u001b[49m\u001b[43my_voltage_int_flatten\u001b[49m\u001b[43m)\u001b[49m)\n\u001b[0;32m     25\u001b[0m     )\n",
      "Cell \u001b[1;32mIn[3], line 7\u001b[0m, in \u001b[0;36mmode\u001b[1;34m(x)\u001b[0m\n\u001b[0;32m      5\u001b[0m edges \u001b[38;5;241m=\u001b[39m \u001b[38;5;28msorted\u001b[39m({x_i\u001b[38;5;241m.\u001b[39ma \u001b[38;5;28;01mfor\u001b[39;00m x_i \u001b[38;5;129;01min\u001b[39;00m x}\u001b[38;5;241m.\u001b[39munion({x_i\u001b[38;5;241m.\u001b[39mb \u001b[38;5;28;01mfor\u001b[39;00m x_i \u001b[38;5;129;01min\u001b[39;00m x}))\n\u001b[0;32m      6\u001b[0m z \u001b[38;5;241m=\u001b[39m [ip\u001b[38;5;241m.\u001b[39mInterval(edges[i], edges[i \u001b[38;5;241m+\u001b[39m \u001b[38;5;241m1\u001b[39m]) \u001b[38;5;28;01mfor\u001b[39;00m i \u001b[38;5;129;01min\u001b[39;00m \u001b[38;5;28mrange\u001b[39m(\u001b[38;5;28mlen\u001b[39m(edges) \u001b[38;5;241m-\u001b[39m \u001b[38;5;241m1\u001b[39m)]\n\u001b[1;32m----> 7\u001b[0m mu \u001b[38;5;241m=\u001b[39m [\u001b[38;5;28msum\u001b[39m(\u001b[38;5;241m1\u001b[39m \u001b[38;5;28;01mfor\u001b[39;00m x_i \u001b[38;5;129;01min\u001b[39;00m x \u001b[38;5;28;01mif\u001b[39;00m z_i \u001b[38;5;129;01min\u001b[39;00m x_i) \u001b[38;5;28;01mfor\u001b[39;00m z_i \u001b[38;5;129;01min\u001b[39;00m z]\n\u001b[0;32m      9\u001b[0m max_mu \u001b[38;5;241m=\u001b[39m \u001b[38;5;28mmax\u001b[39m(mu)\n\u001b[0;32m     10\u001b[0m K \u001b[38;5;241m=\u001b[39m [index \u001b[38;5;28;01mfor\u001b[39;00m index, element \u001b[38;5;129;01min\u001b[39;00m \u001b[38;5;28menumerate\u001b[39m(mu) \u001b[38;5;28;01mif\u001b[39;00m element \u001b[38;5;241m==\u001b[39m max_mu]\n",
      "Cell \u001b[1;32mIn[3], line 7\u001b[0m, in \u001b[0;36m<listcomp>\u001b[1;34m(.0)\u001b[0m\n\u001b[0;32m      5\u001b[0m edges \u001b[38;5;241m=\u001b[39m \u001b[38;5;28msorted\u001b[39m({x_i\u001b[38;5;241m.\u001b[39ma \u001b[38;5;28;01mfor\u001b[39;00m x_i \u001b[38;5;129;01min\u001b[39;00m x}\u001b[38;5;241m.\u001b[39munion({x_i\u001b[38;5;241m.\u001b[39mb \u001b[38;5;28;01mfor\u001b[39;00m x_i \u001b[38;5;129;01min\u001b[39;00m x}))\n\u001b[0;32m      6\u001b[0m z \u001b[38;5;241m=\u001b[39m [ip\u001b[38;5;241m.\u001b[39mInterval(edges[i], edges[i \u001b[38;5;241m+\u001b[39m \u001b[38;5;241m1\u001b[39m]) \u001b[38;5;28;01mfor\u001b[39;00m i \u001b[38;5;129;01min\u001b[39;00m \u001b[38;5;28mrange\u001b[39m(\u001b[38;5;28mlen\u001b[39m(edges) \u001b[38;5;241m-\u001b[39m \u001b[38;5;241m1\u001b[39m)]\n\u001b[1;32m----> 7\u001b[0m mu \u001b[38;5;241m=\u001b[39m [\u001b[38;5;28;43msum\u001b[39;49m\u001b[43m(\u001b[49m\u001b[38;5;241;43m1\u001b[39;49m\u001b[43m \u001b[49m\u001b[38;5;28;43;01mfor\u001b[39;49;00m\u001b[43m \u001b[49m\u001b[43mx_i\u001b[49m\u001b[43m \u001b[49m\u001b[38;5;129;43;01min\u001b[39;49;00m\u001b[43m \u001b[49m\u001b[43mx\u001b[49m\u001b[43m \u001b[49m\u001b[38;5;28;43;01mif\u001b[39;49;00m\u001b[43m \u001b[49m\u001b[43mz_i\u001b[49m\u001b[43m \u001b[49m\u001b[38;5;129;43;01min\u001b[39;49;00m\u001b[43m \u001b[49m\u001b[43mx_i\u001b[49m\u001b[43m)\u001b[49m \u001b[38;5;28;01mfor\u001b[39;00m z_i \u001b[38;5;129;01min\u001b[39;00m z]\n\u001b[0;32m      9\u001b[0m max_mu \u001b[38;5;241m=\u001b[39m \u001b[38;5;28mmax\u001b[39m(mu)\n\u001b[0;32m     10\u001b[0m K \u001b[38;5;241m=\u001b[39m [index \u001b[38;5;28;01mfor\u001b[39;00m index, element \u001b[38;5;129;01min\u001b[39;00m \u001b[38;5;28menumerate\u001b[39m(mu) \u001b[38;5;28;01mif\u001b[39;00m element \u001b[38;5;241m==\u001b[39m max_mu]\n",
      "Cell \u001b[1;32mIn[3], line 7\u001b[0m, in \u001b[0;36m<genexpr>\u001b[1;34m(.0)\u001b[0m\n\u001b[0;32m      5\u001b[0m edges \u001b[38;5;241m=\u001b[39m \u001b[38;5;28msorted\u001b[39m({x_i\u001b[38;5;241m.\u001b[39ma \u001b[38;5;28;01mfor\u001b[39;00m x_i \u001b[38;5;129;01min\u001b[39;00m x}\u001b[38;5;241m.\u001b[39munion({x_i\u001b[38;5;241m.\u001b[39mb \u001b[38;5;28;01mfor\u001b[39;00m x_i \u001b[38;5;129;01min\u001b[39;00m x}))\n\u001b[0;32m      6\u001b[0m z \u001b[38;5;241m=\u001b[39m [ip\u001b[38;5;241m.\u001b[39mInterval(edges[i], edges[i \u001b[38;5;241m+\u001b[39m \u001b[38;5;241m1\u001b[39m]) \u001b[38;5;28;01mfor\u001b[39;00m i \u001b[38;5;129;01min\u001b[39;00m \u001b[38;5;28mrange\u001b[39m(\u001b[38;5;28mlen\u001b[39m(edges) \u001b[38;5;241m-\u001b[39m \u001b[38;5;241m1\u001b[39m)]\n\u001b[1;32m----> 7\u001b[0m mu \u001b[38;5;241m=\u001b[39m [\u001b[38;5;28msum\u001b[39m(\u001b[38;5;241m1\u001b[39m \u001b[38;5;28;01mfor\u001b[39;00m x_i \u001b[38;5;129;01min\u001b[39;00m x \u001b[38;5;28;01mif\u001b[39;00m \u001b[43mz_i\u001b[49m\u001b[43m \u001b[49m\u001b[38;5;129;43;01min\u001b[39;49;00m\u001b[43m \u001b[49m\u001b[43mx_i\u001b[49m) \u001b[38;5;28;01mfor\u001b[39;00m z_i \u001b[38;5;129;01min\u001b[39;00m z]\n\u001b[0;32m      9\u001b[0m max_mu \u001b[38;5;241m=\u001b[39m \u001b[38;5;28mmax\u001b[39m(mu)\n\u001b[0;32m     10\u001b[0m K \u001b[38;5;241m=\u001b[39m [index \u001b[38;5;28;01mfor\u001b[39;00m index, element \u001b[38;5;129;01min\u001b[39;00m \u001b[38;5;28menumerate\u001b[39m(mu) \u001b[38;5;28;01mif\u001b[39;00m element \u001b[38;5;241m==\u001b[39m max_mu]\n",
      "File \u001b[1;32mc:\\Python310\\lib\\site-packages\\intvalpy\\kernel\\real_intervals.py:12\u001b[0m, in \u001b[0;36mwrap_to_interval.<locals>.interval\u001b[1;34m(x, y)\u001b[0m\n\u001b[0;32m     10\u001b[0m \u001b[38;5;28;01mdef\u001b[39;00m \u001b[38;5;21minterval\u001b[39m(x, y):\n\u001b[0;32m     11\u001b[0m     \u001b[38;5;28;01mif\u001b[39;00m \u001b[38;5;28misinstance\u001b[39m(y, ARITHMETICS):\n\u001b[1;32m---> 12\u001b[0m         \u001b[38;5;28;01mreturn\u001b[39;00m \u001b[43mfunc\u001b[49m\u001b[43m(\u001b[49m\u001b[43mx\u001b[49m\u001b[43m,\u001b[49m\u001b[43m \u001b[49m\u001b[43my\u001b[49m\u001b[43m)\u001b[49m\n\u001b[0;32m     13\u001b[0m     \u001b[38;5;28;01melse\u001b[39;00m:\n\u001b[0;32m     14\u001b[0m         \u001b[38;5;28;01mreturn\u001b[39;00m func(x, SingleInterval(y, y))\n",
      "File \u001b[1;32mc:\\Python310\\lib\\site-packages\\intvalpy\\kernel\\real_intervals.py:138\u001b[0m, in \u001b[0;36mBaseTools.__contains__\u001b[1;34m(self, other)\u001b[0m\n\u001b[0;32m    136\u001b[0m \u001b[38;5;129m@wrap_to_interval\u001b[39m\n\u001b[0;32m    137\u001b[0m \u001b[38;5;28;01mdef\u001b[39;00m \u001b[38;5;21m__contains__\u001b[39m(\u001b[38;5;28mself\u001b[39m, other):\n\u001b[1;32m--> 138\u001b[0m     \u001b[38;5;28;01mreturn\u001b[39;00m (\u001b[38;5;28;43mself\u001b[39;49m\u001b[38;5;241;43m.\u001b[39;49m\u001b[43ma\u001b[49m\u001b[43m \u001b[49m\u001b[38;5;241;43m<\u001b[39;49m\u001b[38;5;241;43m=\u001b[39;49m\u001b[43m \u001b[49m\u001b[43mother\u001b[49m\u001b[38;5;241;43m.\u001b[39;49m\u001b[43ma\u001b[49m) \u001b[38;5;129;01mand\u001b[39;00m (other\u001b[38;5;241m.\u001b[39mb \u001b[38;5;241m<\u001b[39m\u001b[38;5;241m=\u001b[39m \u001b[38;5;28mself\u001b[39m\u001b[38;5;241m.\u001b[39mb)\n",
      "File \u001b[1;32mc:\\Python310\\lib\\site-packages\\mpmath\\ctx_mp_python.py:181\u001b[0m, in \u001b[0;36m_mpf.__le__\u001b[1;34m(s, t)\u001b[0m\n\u001b[1;32m--> 181\u001b[0m \u001b[38;5;28;01mdef\u001b[39;00m \u001b[38;5;21m__le__\u001b[39m(s, t): \u001b[38;5;28;01mreturn\u001b[39;00m \u001b[43ms\u001b[49m\u001b[38;5;241;43m.\u001b[39;49m\u001b[43m_cmp\u001b[49m\u001b[43m(\u001b[49m\u001b[43mt\u001b[49m\u001b[43m,\u001b[49m\u001b[43m \u001b[49m\u001b[43mmpf_le\u001b[49m\u001b[43m)\u001b[49m\n",
      "File \u001b[1;32mc:\\Python310\\lib\\site-packages\\mpmath\\ctx_mp_python.py:176\u001b[0m, in \u001b[0;36m_mpf._cmp\u001b[1;34m(s, t, func)\u001b[0m\n\u001b[0;32m    174\u001b[0m     \u001b[38;5;28;01mif\u001b[39;00m t \u001b[38;5;129;01mis\u001b[39;00m \u001b[38;5;28mNotImplemented\u001b[39m:\n\u001b[0;32m    175\u001b[0m         \u001b[38;5;28;01mreturn\u001b[39;00m t\n\u001b[1;32m--> 176\u001b[0m \u001b[38;5;28;01mreturn\u001b[39;00m \u001b[43mfunc\u001b[49m\u001b[43m(\u001b[49m\u001b[43ms\u001b[49m\u001b[38;5;241;43m.\u001b[39;49m\u001b[43m_mpf_\u001b[49m\u001b[43m,\u001b[49m\u001b[43m \u001b[49m\u001b[43mt\u001b[49m\u001b[43m)\u001b[49m\n",
      "File \u001b[1;32mc:\\Python310\\lib\\site-packages\\mpmath\\libmp\\libmpf.py:634\u001b[0m, in \u001b[0;36mmpf_le\u001b[1;34m(s, t)\u001b[0m\n\u001b[0;32m    632\u001b[0m \u001b[38;5;28;01mif\u001b[39;00m s \u001b[38;5;241m==\u001b[39m fnan \u001b[38;5;129;01mor\u001b[39;00m t \u001b[38;5;241m==\u001b[39m fnan:\n\u001b[0;32m    633\u001b[0m     \u001b[38;5;28;01mreturn\u001b[39;00m \u001b[38;5;28;01mFalse\u001b[39;00m\n\u001b[1;32m--> 634\u001b[0m \u001b[38;5;28;01mreturn\u001b[39;00m \u001b[43mmpf_cmp\u001b[49m\u001b[43m(\u001b[49m\u001b[43ms\u001b[49m\u001b[43m,\u001b[49m\u001b[43m \u001b[49m\u001b[43mt\u001b[49m\u001b[43m)\u001b[49m \u001b[38;5;241m<\u001b[39m\u001b[38;5;241m=\u001b[39m \u001b[38;5;241m0\u001b[39m\n",
      "File \u001b[1;32mc:\\Python310\\lib\\site-packages\\mpmath\\libmp\\libmpf.py:595\u001b[0m, in \u001b[0;36mmpf_cmp\u001b[1;34m(s, t)\u001b[0m\n\u001b[0;32m    593\u001b[0m     \u001b[38;5;28;01mreturn\u001b[39;00m \u001b[38;5;241m-\u001b[39m\u001b[38;5;241m1\u001b[39m\n\u001b[0;32m    594\u001b[0m \u001b[38;5;66;03m# Different sides of zero\u001b[39;00m\n\u001b[1;32m--> 595\u001b[0m \u001b[38;5;28;01mif\u001b[39;00m \u001b[43mssign\u001b[49m\u001b[43m \u001b[49m\u001b[38;5;241;43m!=\u001b[39;49m\u001b[43m \u001b[49m\u001b[43mtsign\u001b[49m:\n\u001b[0;32m    596\u001b[0m     \u001b[38;5;28;01mif\u001b[39;00m \u001b[38;5;129;01mnot\u001b[39;00m ssign: \u001b[38;5;28;01mreturn\u001b[39;00m \u001b[38;5;241m1\u001b[39m\n\u001b[0;32m    597\u001b[0m     \u001b[38;5;28;01mreturn\u001b[39;00m \u001b[38;5;241m-\u001b[39m\u001b[38;5;241m1\u001b[39m\n",
      "\u001b[1;31mKeyboardInterrupt\u001b[0m: "
     ]
    }
   ],
   "source": [
    "a_2 = ternary_search(estimate_a_mode, -4, 4, 1e-3)\n",
    "a_2, estimate_a_mode(a_2)"
   ]
  },
  {
   "cell_type": "code",
   "execution_count": null,
   "metadata": {},
   "outputs": [],
   "source": [
    "t_2 = ternary_search(estimate_t_mode, -4, 0, 1e-3)\n",
    "t_2, estimate_t_mode(t_2)"
   ]
  },
  {
   "cell_type": "code",
   "execution_count": null,
   "metadata": {},
   "outputs": [],
   "source": [
    "a_3 = ternary_search(estimate_a_med_p, -4, 4, 1e-3)\n",
    "a_3, estimate_a_med_p(a_3)"
   ]
  },
  {
   "cell_type": "code",
   "execution_count": null,
   "metadata": {},
   "outputs": [],
   "source": [
    "t_3 = ternary_search(estimate_t_med_p, -4, 0, 1e-3)\n",
    "t_3, estimate_t_med_p(t_3)"
   ]
  },
  {
   "cell_type": "code",
   "execution_count": 15,
   "metadata": {},
   "outputs": [
    {
     "data": {
      "text/plain": [
       "(0.3436626709137751, mpf('-0.124573277595029465007500412358445524829'))"
      ]
     },
     "execution_count": 15,
     "metadata": {},
     "output_type": "execute_result"
    }
   ],
   "source": [
    "a_4 = ternary_search(estimate_a_med_k, -4, 4, 1e-3)\n",
    "a_4, estimate_a_med_k(a_4)"
   ]
  },
  {
   "cell_type": "code",
   "execution_count": 16,
   "metadata": {},
   "outputs": [
    {
     "ename": "KeyboardInterrupt",
     "evalue": "",
     "output_type": "error",
     "traceback": [
      "\u001b[1;31m---------------------------------------------------------------------------\u001b[0m",
      "\u001b[1;31mKeyboardInterrupt\u001b[0m                         Traceback (most recent call last)",
      "Cell \u001b[1;32mIn[16], line 1\u001b[0m\n\u001b[1;32m----> 1\u001b[0m t_4 \u001b[38;5;241m=\u001b[39m \u001b[43mternary_search\u001b[49m\u001b[43m(\u001b[49m\u001b[43mestimate_t_med_k\u001b[49m\u001b[43m,\u001b[49m\u001b[43m \u001b[49m\u001b[38;5;241;43m-\u001b[39;49m\u001b[38;5;241;43m4\u001b[39;49m\u001b[43m,\u001b[49m\u001b[43m \u001b[49m\u001b[38;5;241;43m0\u001b[39;49m\u001b[43m,\u001b[49m\u001b[43m \u001b[49m\u001b[38;5;241;43m1e-3\u001b[39;49m\u001b[43m)\u001b[49m\n\u001b[0;32m      2\u001b[0m t_4, estimate_t_med_k(t_4)\n",
      "Cell \u001b[1;32mIn[11], line 6\u001b[0m, in \u001b[0;36mternary_search\u001b[1;34m(f, left, right, eps)\u001b[0m\n\u001b[0;32m      3\u001b[0m m1 \u001b[38;5;241m=\u001b[39m left \u001b[38;5;241m+\u001b[39m (right \u001b[38;5;241m-\u001b[39m left) \u001b[38;5;241m/\u001b[39m \u001b[38;5;241m3\u001b[39m\n\u001b[0;32m      4\u001b[0m m2 \u001b[38;5;241m=\u001b[39m right \u001b[38;5;241m-\u001b[39m (right \u001b[38;5;241m-\u001b[39m left) \u001b[38;5;241m/\u001b[39m \u001b[38;5;241m3\u001b[39m\n\u001b[1;32m----> 6\u001b[0m \u001b[38;5;28;01mif\u001b[39;00m f(m1) \u001b[38;5;241m<\u001b[39m \u001b[43mf\u001b[49m\u001b[43m(\u001b[49m\u001b[43mm2\u001b[49m\u001b[43m)\u001b[49m:\n\u001b[0;32m      7\u001b[0m     left \u001b[38;5;241m=\u001b[39m m1\n\u001b[0;32m      8\u001b[0m \u001b[38;5;28;01melse\u001b[39;00m:\n",
      "Cell \u001b[1;32mIn[11], line 60\u001b[0m, in \u001b[0;36mestimate_t_med_k\u001b[1;34m(t)\u001b[0m\n\u001b[0;32m     58\u001b[0m \u001b[38;5;28;01mdef\u001b[39;00m \u001b[38;5;21mestimate_t_med_k\u001b[39m(t):\n\u001b[0;32m     59\u001b[0m     \u001b[38;5;28;01mreturn\u001b[39;00m np\u001b[38;5;241m.\u001b[39mmean(\n\u001b[1;32m---> 60\u001b[0m         jaccard_index(\u001b[43mmed_k\u001b[49m\u001b[43m(\u001b[49m\u001b[43mx_voltage_int_flatten\u001b[49m\u001b[43m \u001b[49m\u001b[38;5;241;43m*\u001b[39;49m\u001b[43m \u001b[49m\u001b[43mt\u001b[49m\u001b[43m)\u001b[49m, med_k(y_voltage_int_flatten))\n\u001b[0;32m     61\u001b[0m     )\n",
      "Cell \u001b[1;32mIn[4], line 3\u001b[0m, in \u001b[0;36mmed_k\u001b[1;34m(x)\u001b[0m\n\u001b[0;32m      1\u001b[0m \u001b[38;5;28;01mdef\u001b[39;00m \u001b[38;5;21mmed_k\u001b[39m(x):\n\u001b[0;32m      2\u001b[0m     starts \u001b[38;5;241m=\u001b[39m [\u001b[38;5;28mfloat\u001b[39m(interval\u001b[38;5;241m.\u001b[39ma) \u001b[38;5;28;01mfor\u001b[39;00m interval \u001b[38;5;129;01min\u001b[39;00m x]\n\u001b[1;32m----> 3\u001b[0m     ends \u001b[38;5;241m=\u001b[39m [\u001b[38;5;28mfloat\u001b[39m(interval\u001b[38;5;241m.\u001b[39mb) \u001b[38;5;28;01mfor\u001b[39;00m interval \u001b[38;5;129;01min\u001b[39;00m x]\n\u001b[0;32m      4\u001b[0m     \u001b[38;5;28;01mreturn\u001b[39;00m ip\u001b[38;5;241m.\u001b[39mInterval(np\u001b[38;5;241m.\u001b[39mmedian(starts), np\u001b[38;5;241m.\u001b[39mmedian(ends))\n",
      "Cell \u001b[1;32mIn[4], line 3\u001b[0m, in \u001b[0;36m<listcomp>\u001b[1;34m(.0)\u001b[0m\n\u001b[0;32m      1\u001b[0m \u001b[38;5;28;01mdef\u001b[39;00m \u001b[38;5;21mmed_k\u001b[39m(x):\n\u001b[0;32m      2\u001b[0m     starts \u001b[38;5;241m=\u001b[39m [\u001b[38;5;28mfloat\u001b[39m(interval\u001b[38;5;241m.\u001b[39ma) \u001b[38;5;28;01mfor\u001b[39;00m interval \u001b[38;5;129;01min\u001b[39;00m x]\n\u001b[1;32m----> 3\u001b[0m     ends \u001b[38;5;241m=\u001b[39m [\u001b[38;5;28;43mfloat\u001b[39;49m\u001b[43m(\u001b[49m\u001b[43minterval\u001b[49m\u001b[38;5;241;43m.\u001b[39;49m\u001b[43mb\u001b[49m\u001b[43m)\u001b[49m \u001b[38;5;28;01mfor\u001b[39;00m interval \u001b[38;5;129;01min\u001b[39;00m x]\n\u001b[0;32m      4\u001b[0m     \u001b[38;5;28;01mreturn\u001b[39;00m ip\u001b[38;5;241m.\u001b[39mInterval(np\u001b[38;5;241m.\u001b[39mmedian(starts), np\u001b[38;5;241m.\u001b[39mmedian(ends))\n",
      "File \u001b[1;32mc:\\Python310\\lib\\site-packages\\mpmath\\ctx_mp_python.py:145\u001b[0m, in \u001b[0;36m_mpf.__float__\u001b[1;34m(s)\u001b[0m\n\u001b[1;32m--> 145\u001b[0m \u001b[38;5;28;01mdef\u001b[39;00m \u001b[38;5;21m__float__\u001b[39m(s): \u001b[38;5;28;01mreturn\u001b[39;00m \u001b[43mto_float\u001b[49m\u001b[43m(\u001b[49m\u001b[43ms\u001b[49m\u001b[38;5;241;43m.\u001b[39;49m\u001b[43m_mpf_\u001b[49m\u001b[43m,\u001b[49m\u001b[43m \u001b[49m\u001b[43mrnd\u001b[49m\u001b[38;5;241;43m=\u001b[39;49m\u001b[43ms\u001b[49m\u001b[38;5;241;43m.\u001b[39;49m\u001b[43mcontext\u001b[49m\u001b[38;5;241;43m.\u001b[39;49m\u001b[43m_prec_rounding\u001b[49m\u001b[43m[\u001b[49m\u001b[38;5;241;43m1\u001b[39;49m\u001b[43m]\u001b[49m\u001b[43m)\u001b[49m\n",
      "File \u001b[1;32mc:\\Python310\\lib\\site-packages\\mpmath\\libmp\\libmpf.py:468\u001b[0m, in \u001b[0;36mto_float\u001b[1;34m(s, strict, rnd)\u001b[0m\n\u001b[0;32m    455\u001b[0m \u001b[38;5;250m\u001b[39m\u001b[38;5;124;03m\"\"\"\u001b[39;00m\n\u001b[0;32m    456\u001b[0m \u001b[38;5;124;03mConvert a raw mpf to a Python float. The result is exact if the\u001b[39;00m\n\u001b[0;32m    457\u001b[0m \u001b[38;5;124;03mbitcount of s is <= 53 and no underflow/overflow occurs.\u001b[39;00m\n\u001b[1;32m   (...)\u001b[0m\n\u001b[0;32m    465\u001b[0m \u001b[38;5;124;03min case of overflow or (gradual) underflow.\u001b[39;00m\n\u001b[0;32m    466\u001b[0m \u001b[38;5;124;03m\"\"\"\u001b[39;00m\n\u001b[0;32m    467\u001b[0m sign, man, exp, bc \u001b[38;5;241m=\u001b[39m s\n\u001b[1;32m--> 468\u001b[0m \u001b[38;5;28;01mif\u001b[39;00m \u001b[38;5;129;01mnot\u001b[39;00m man:\n\u001b[0;32m    469\u001b[0m     \u001b[38;5;28;01mif\u001b[39;00m s \u001b[38;5;241m==\u001b[39m fzero: \u001b[38;5;28;01mreturn\u001b[39;00m \u001b[38;5;241m0.0\u001b[39m\n\u001b[0;32m    470\u001b[0m     \u001b[38;5;28;01mif\u001b[39;00m s \u001b[38;5;241m==\u001b[39m finf: \u001b[38;5;28;01mreturn\u001b[39;00m math_float_inf\n",
      "\u001b[1;31mKeyboardInterrupt\u001b[0m: "
     ]
    }
   ],
   "source": [
    "t_4 = ternary_search(estimate_t_med_k, -4, 0, 1e-3)\n",
    "t_4, estimate_t_med_k(t_4)"
   ]
  }
 ],
 "metadata": {
  "kernelspec": {
   "display_name": "Python 3",
   "language": "python",
   "name": "python3"
  },
  "language_info": {
   "codemirror_mode": {
    "name": "ipython",
    "version": 3
   },
   "file_extension": ".py",
   "mimetype": "text/x-python",
   "name": "python",
   "nbconvert_exporter": "python",
   "pygments_lexer": "ipython3",
   "version": "3.10.5"
  }
 },
 "nbformat": 4,
 "nbformat_minor": 2
}
